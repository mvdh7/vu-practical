{
 "cells": [
  {
   "cell_type": "markdown",
   "id": "uniform-literature",
   "metadata": {},
   "source": [
    "# Carbon in the ocean: practical\n",
    "\n",
    "## Import the data\n",
    "\n",
    "This first cell below imports the data you will use.  It creates an xarray Dataset called `surface`, which contains a 2D grid (latitude vs longitude) of some different properties at the surface of the ocean.  These data come from the GLODAP compilation; you can find more information about this at [glodap.info](https://www.glodap.info/).\n",
    "\n",
    "You need to run the code cell (with Ctrl + Enter) once at the start and understand roughly what is going on, but nothing here needs to be changed."
   ]
  },
  {
   "cell_type": "code",
   "execution_count": null,
   "id": "alone-andrews",
   "metadata": {},
   "outputs": [],
   "source": [
    "# Import packages\n",
    "import warnings\n",
    "warnings.simplefilter(action='ignore', category=FutureWarning)\n",
    "import numpy as np, xarray as xr, PyCO2SYS as pyco2, area\n",
    "from matplotlib import pyplot as plt\n",
    "from vufuncs import seawater_1atm_MP81\n",
    "\n",
    "# Import GLODAP gridded & mapped data\n",
    "glodap = xr.Dataset()\n",
    "glodap['alkalinity'] = xr.open_dataarray('data/GLODAPv2.2016b.TAlk_only.nc')\n",
    "glodap['dic'] = xr.open_dataarray('data/GLODAPv2.2016b.TCO2_only.nc')\n",
    "glodap['nitrate'] = xr.open_dataarray('data/GLODAPv2.2016b.NO3_only.nc')\n",
    "glodap['salinity'] = xr.open_dataarray('data/GLODAPv2.2016b.salinity_only.nc')\n",
    "glodap['temperature'] = xr.open_dataarray('data/GLODAPv2.2016b.temperature_only.nc')\n",
    "\n",
    "# Pick out surface data\n",
    "surface = glodap.bfill(dim='depth_surface').isel(depth_surface=0)\n",
    "\n",
    "# Import climatological mean mixed layer depth and interpolate it to match the GLODAP grid\n",
    "surface['mld'] = xr.open_dataarray('data/mld_mean.nc').interp_like(surface)\n",
    "\n",
    "# Calculate surface seawater density in g/cm³\n",
    "surface['density'] = seawater_1atm_MP81(temperature=surface.temperature, salinity=surface.salinity)\n",
    "\n",
    "# Calculate surface area of each grid cell in m²\n",
    "surface_area = np.full_like(surface.lat, np.nan)\n",
    "for i, lat_i in enumerate(surface.lat):\n",
    "    surface_area[i] = area.area({\n",
    "        'type': 'Polygon',\n",
    "        'coordinates': [[[0, lat_i + 0.5], [1, lat_i + 0.5], [1, lat_i - 0.5], [0, lat_i - 0.5]]],\n",
    "    })\n",
    "surface['area'] = (('lat', 'lon'), (surface_area * np.ones_like(surface.mld.values).T).T)\n",
    "\n",
    "# Set surface area to 0 for the land\n",
    "surface['area'] = surface.area.where(~surface.temperature.isnull(), 0)\n",
    "\n",
    "# Summarise the surface Dataset below\n",
    "surface"
   ]
  },
  {
   "cell_type": "markdown",
   "id": "2b6e0267-0a02-4486-8081-70028390894e",
   "metadata": {},
   "source": [
    "If the import has worked, you should now see a summary of the `surface` dataset above.  It contains data gridded in latitude (coordinate `lat`) and longitude (coordinate `lon`) for the following variables:\n",
    "\n",
    "  * `alkalinity` - total alkalinity, in µmol/kg\n",
    "  * `dic` - dissolved inorganic carbon (DIC), in µmol/kg\n",
    "  * `nitrate` - dissolved inorganic nitrate (NO₃⁻), in µmol/kg\n",
    "  * `salinity` - practical salinity\n",
    "  * `temperature` - seawater temperature, in °C\n",
    "  * `mld` - mixed layer depth, in m\n",
    "  * `density` - seawater density, in kg/l\n",
    "  * `area` - area of the grid cell, with land areas set to zero, in m²\n",
    "  \n",
    "## Carry out calculations\n",
    "  \n",
    "You can access the data for any one of these variables (e.g. `alkalinity`) using either `surface.alkalinity` or `surface['alkalinity']`.\n",
    "\n",
    "You can do calculations with the variables using the normal mathematical symbols, including across the two Datasets.  You can keep these as separate variables or insert them into a Dataset using e.g. `surface['new_variable_name'] = ...` (but NOT `surface.new_variable_name = ...`!).  Some examples:"
   ]
  },
  {
   "cell_type": "code",
   "execution_count": null,
   "id": "e2b8948d-687b-4af2-b1f5-735c0074177c",
   "metadata": {},
   "outputs": [],
   "source": [
    "# Calculate surface nitrate plus alkalinity divided by salinity, as a separate variable\n",
    "palk_sal = (surface.nitrate + surface.alkalinity) / surface.salinity\n",
    "\n",
    "# Calculate mixed layer depth multiplied by grid cell area, as a new variable in the surface Dataset\n",
    "surface['mlv'] = surface.mld * surface.area"
   ]
  },
  {
   "cell_type": "markdown",
   "id": "d79ebdd5-f212-4c84-a894-9b879a51e809",
   "metadata": {},
   "source": [
    "xarray also has built in methods for calculating some overall properties of variables.  For example:"
   ]
  },
  {
   "cell_type": "code",
   "execution_count": null,
   "id": "4c7f7090-9219-4cb4-910e-f59826fdb63d",
   "metadata": {},
   "outputs": [],
   "source": [
    "surface.temperature.mean()  # gives the mean temperature\n",
    "surface.area.sum()  # gives the sum of all the areas"
   ]
  },
  {
   "cell_type": "markdown",
   "id": "buried-shoulder",
   "metadata": {},
   "source": [
    "## Visualise the data\n",
    "\n",
    "### Making maps\n",
    "\n",
    "You can make a basic map of any variable as follows:"
   ]
  },
  {
   "cell_type": "code",
   "execution_count": null,
   "id": "framed-hello",
   "metadata": {},
   "outputs": [],
   "source": [
    "plt.figure(figsize=(13, 7))  # this line isn't strictly necessary; you can adjust the figsize values\n",
    "surface.temperature.plot()"
   ]
  },
  {
   "cell_type": "markdown",
   "id": "d0c1ba06-bc6f-4980-9f5a-a1be45b7f648",
   "metadata": {},
   "source": [
    "You can also do this with new variables you have created - just swap `surface.temperature` with the variable name, e.g.:"
   ]
  },
  {
   "cell_type": "code",
   "execution_count": null,
   "id": "14edbe73-bdca-4449-9a9a-bd3db95968c1",
   "metadata": {},
   "outputs": [],
   "source": [
    "plt.figure(figsize=(13, 7))\n",
    "palk_sal.plot(vmin=65, vmax=75)  # vmin and vmax control the colorbar range"
   ]
  },
  {
   "cell_type": "markdown",
   "id": "mighty-compression",
   "metadata": {},
   "source": [
    "### Scatter plots\n",
    "\n",
    "To make a scatter plot between any variables within the `surface` or `deep` dataset (including new ones you have added):"
   ]
  },
  {
   "cell_type": "code",
   "execution_count": null,
   "id": "israeli-voltage",
   "metadata": {},
   "outputs": [],
   "source": [
    "plt.figure(figsize=(13, 7))\n",
    "surface.plot.scatter('salinity', 'alkalinity', s=5, hue='dic')"
   ]
  },
  {
   "cell_type": "markdown",
   "id": "voluntary-ireland",
   "metadata": {},
   "source": [
    "Note that we used the kwarg `hue` above to also colour the scattered points by one of the variables (in this case, DIC).\n",
    "\n",
    "## Solve the marine carbonate system with PyCO2SYS\n",
    "\n",
    "We can use the PyCO2SYS package to solve the complete marine carbonate system from any pair of its variables (see [PyCO2SYS.rtfd.io](https://pyco2sys.readthedocs.io/en/latest/) for more info).  We use `pyco2.sys()` to solve the system, which returns a dict containing all the different calculated properties.\n",
    "\n",
    "The units for DIC and alkalinity in PyCO2SYS are substance content in µmol/kg.  The unit for pCO₂ is µatm (parts per million).\n",
    "\n",
    "The main variables we will be interested in are seawater pCO₂ (`pCO2`), pH (`pH`) and the saturation states with respect to calcite (`saturation_calcite`) and aragonite (`saturation_aragonite`):"
   ]
  },
  {
   "cell_type": "code",
   "execution_count": null,
   "id": "advanced-guess",
   "metadata": {},
   "outputs": [],
   "source": [
    "# Calculate initial surface ocean pCO2 with PyCO2SYS\n",
    "results = pyco2.sys(\n",
    "    par1=surface.alkalinity.values,\n",
    "    par2=surface.dic.values,\n",
    "    par1_type=1,  # 1 means alkalinity\n",
    "    par2_type=2,  # 2 means DIC\n",
    "    temperature=surface.temperature.values,\n",
    "    salinity=surface.salinity.values,\n",
    ")\n",
    "\n",
    "# Recipe to add a single new variable from PyCO2SYS into the surface Dataset\n",
    "surface['pCO2'] = (('lat', 'lon'), results['pCO2'])\n",
    "\n",
    "# Loop using the recipe above to transfer several variables across at once:\n",
    "for var in ['pH', 'saturation_calcite', 'saturation_aragonite']:\n",
    "    surface[var] = (('lat', 'lon'), results[var])\n",
    "    \n",
    "# Remind ourselves of the contents of surface\n",
    "surface"
   ]
  },
  {
   "cell_type": "markdown",
   "id": "1829bf80-5a86-4b8f-b6b8-86f2767b72ee",
   "metadata": {},
   "source": [
    "You can also use other pairs of known CO₂ system variables in PyCO2SYS.  For example, if we knew alkalinity and pCO₂ and want to find out the corresponding DIC, we could do:"
   ]
  },
  {
   "cell_type": "code",
   "execution_count": null,
   "id": "0e8d8719-7b71-4263-8ffb-1f202247a0ac",
   "metadata": {},
   "outputs": [],
   "source": [
    "# Run PyCO2SYS with known alkalinity and pCO₂\n",
    "results_2 = pyco2.sys(\n",
    "    par1=surface.alkalinity.values,\n",
    "    par2=surface.pCO2.values,\n",
    "    par1_type=1,  # 1 means alkalinity\n",
    "    par2_type=4,  # 4 means pCO₂\n",
    "    temperature=surface.temperature.values,\n",
    "    salinity=surface.salinity.values,\n",
    ")\n",
    "\n",
    "# Extract DIC\n",
    "dic = results_2['dic']"
   ]
  },
  {
   "cell_type": "markdown",
   "id": "unavailable-opposition",
   "metadata": {},
   "source": [
    "## Geoengineering options\n",
    "\n",
    "Several ways to encourage the ocean to take up more CO₂ from the ocean have been proposed.  We can use the `surface` dataset imported above to investigate the potential of these to absorb CO₂ and their limitations.\n",
    "\n",
    "**Iron fertilisation** has been suggested for high-nutrient, low-chlorophyll regions like the Southern Ocean.  Here, major nutrients (e.g. nitrate) are abundant because biological productivity is instead limited by the trace nutrient iron.  Adding iron in these regions might allow the nitrate to be all used up by new primary production, converting DIC into organic matter in the process.\n",
    "\n",
    "**Ocean alkalinisation** or **liming** involves dissolving minerals like CaCO₃ or olivine into seawater.  These minerals increase alkalinity and thus enhance seawater's CO₂ storage capacity.  This method could be applied anywhere over the surface ocean.\n",
    "\n",
    "### Questions\n",
    "\n",
    "If a question requires a numerical answer, use `print()` to show it.\n",
    "\n",
    "If a question asks for a figure, write the code for the figure.\n",
    "\n",
    "If a question asks for some text, write it in the code box or in a separate markdown cell.\n",
    "\n",
    "There are marks for your working, not only the final answers, so show everything!  If you know what calculation you need to do for a question, but don't know how to do this in Python, you will still get some credit if you explain correctly what the calculation should be.  If you have an incorrect answer and then use this for a calculation in a later question, you will not be penalised twice (if the later calculation is otherwise correct).\n",
    "\n",
    "#### Ocean fertilisation\n",
    "\n",
    "1. In total, how much (a) nitrate and (b) DIC is there in the surface mixed layer of the global ocean (in moles)?  Assume that the values in `surface` (in μmol/kg) are uniform down to the mixed layer depth."
   ]
  },
  {
   "cell_type": "code",
   "execution_count": null,
   "id": "23192aae-c624-4d04-b1c5-797e99ba6a13",
   "metadata": {},
   "outputs": [],
   "source": [
    "# Write code for Q1 here\n"
   ]
  },
  {
   "cell_type": "markdown",
   "id": "311ea4b7-fdcd-4542-a594-d3e567f7b5b8",
   "metadata": {},
   "source": [
    "  2. If all of this nitrate was converted into organic matter (OM), how much DIC would be taken up?  You may assume that OM contains carbon (all from DIC) and nitrogen (all from nitrate) with a C:N ratio of 117:16, following [Anderson & Sarmiento (1994)](https://agupubs.onlinelibrary.wiley.com/doi/10.1029/93GB03318)."
   ]
  },
  {
   "cell_type": "code",
   "execution_count": null,
   "id": "suburban-suffering",
   "metadata": {},
   "outputs": [],
   "source": [
    "# Write code for Q2 here\n"
   ]
  },
  {
   "cell_type": "markdown",
   "id": "e9e84e2c-cb3c-4fbe-b41c-2364d9a349af",
   "metadata": {},
   "source": [
    "  3. If the ocean then replaced all the DIC that was converted into OM in Q2 by absorbing an equal amount of CO₂ from the atmosphere, what is this as a multiple of annual anthropogenic CO₂ emissions (find an appropriate value from [Friedlingstein et al. (2020)](https://essd.copernicus.org/articles/12/3269/2020/))?  In reality, would we expect more or less CO₂ than this actually to be taken up, and why? "
   ]
  },
  {
   "cell_type": "code",
   "execution_count": null,
   "id": "9bd34c8f-b885-4bfa-83a1-1b10d14179e7",
   "metadata": {},
   "outputs": [],
   "source": [
    "# Write code/answer for Q3 here\n"
   ]
  },
  {
   "cell_type": "markdown",
   "id": "5c93030f-4ca4-47ac-a528-3d06fa196ee1",
   "metadata": {},
   "source": [
    "#### Ocean liming\n",
    "\n",
    "4. Let us dissolve 333 g of CaCO₃ into each m² of the surface ocean and assume this mixes uniformly through the surface mixed layer.  How many moles of (a) DIC and (b) alkalinity have been added to the surface mixed layer immediately after dissolution?"
   ]
  },
  {
   "cell_type": "code",
   "execution_count": null,
   "id": "5ab20f17-1062-434d-af2e-f88b42bfef32",
   "metadata": {},
   "outputs": [],
   "source": [
    "# Write code for Q4 here\n"
   ]
  },
  {
   "cell_type": "markdown",
   "id": "72934155-043c-4bac-8c9a-8eb0fb28d0f9",
   "metadata": {},
   "source": [
    "5. What will be the new pCO₂ of the surface layer immediately after dissolution?  Show your answer by drawing a map of the change in pCO₂."
   ]
  },
  {
   "cell_type": "code",
   "execution_count": null,
   "id": "ce00d3c1-3be2-4f7c-a0e4-97c5e02fd2a9",
   "metadata": {},
   "outputs": [],
   "source": [
    "# Write code for Q5 here\n"
   ]
  },
  {
   "cell_type": "markdown",
   "id": "aeac3ff0-7053-4802-9b01-9185cb6a7869",
   "metadata": {},
   "source": [
    "6. If the surface ocean now equilibrates with the atmosphere to return to its original pCO₂ from before we dissolved any extra CaCO₃, how much DIC in total is there now in the surface mixed layer, in moles?"
   ]
  },
  {
   "cell_type": "code",
   "execution_count": null,
   "id": "42013ae1-7ee6-4640-ac73-0c7e8fa88b95",
   "metadata": {},
   "outputs": [],
   "source": [
    "# Write code for Q6 here\n"
   ]
  },
  {
   "cell_type": "markdown",
   "id": "c0216e48-fe77-458a-b33b-a2eee9007ecc",
   "metadata": {},
   "source": [
    "7. How much CO₂ has been transferred between the atmosphere and ocean due to dissolution of CaCO₃ and subsequent gas exchange?  What is the direction of transfer — did the atmosphere gain or lose CO₂?  How many years of annual anthropogenic emissions does this represent?"
   ]
  },
  {
   "cell_type": "code",
   "execution_count": null,
   "id": "9fa1250c-136a-474f-80db-4b8ac4c89d90",
   "metadata": {},
   "outputs": [],
   "source": [
    "# Write code for Q7 here\n"
   ]
  },
  {
   "cell_type": "markdown",
   "id": "39c30be4-9310-4749-b5a0-67b19acdaa13",
   "metadata": {},
   "source": [
    "8. How much CaCO₃ did we dissolve in total?  Put the amount into a unit or context that you might see on a news report, that a layperson could easily grasp."
   ]
  },
  {
   "cell_type": "code",
   "execution_count": null,
   "id": "c164e44a-b9b3-4d58-a8e1-e9f472acdb50",
   "metadata": {},
   "outputs": [],
   "source": [
    "# Write code/answer for Q8 here\n"
   ]
  },
  {
   "cell_type": "markdown",
   "id": "e3123483-97a2-4cd4-8943-ff876923d75a",
   "metadata": {},
   "source": [
    "9. Explain the key theoretical problem with the plan to dissolve CaCO₃ in the surface ocean and draw a map to illustrate it.  Even if we could overcome this and elevate alkalinity by the calculated amount, then are there any reasons why the ocean might not take up the calculated amount of CO₂ from the atmosphere?"
   ]
  },
  {
   "cell_type": "code",
   "execution_count": null,
   "id": "a72e92aa-14ea-4770-a3b5-a0180dcc593a",
   "metadata": {},
   "outputs": [],
   "source": [
    "# Write code/answer for Q9 here\n"
   ]
  }
 ],
 "metadata": {
  "kernelspec": {
   "display_name": "Python 3 (ipykernel)",
   "language": "python",
   "name": "python3"
  },
  "language_info": {
   "codemirror_mode": {
    "name": "ipython",
    "version": 3
   },
   "file_extension": ".py",
   "mimetype": "text/x-python",
   "name": "python",
   "nbconvert_exporter": "python",
   "pygments_lexer": "ipython3",
   "version": "3.10.2"
  }
 },
 "nbformat": 4,
 "nbformat_minor": 5
}
