{
 "cells": [
  {
   "cell_type": "markdown",
   "id": "following-trade",
   "metadata": {},
   "source": [
    "# Carbon in the ocean: practical\n",
    "\n",
    "## Introduction to PyCO2SYS\n",
    "\n",
    "PyCO2SYS is a Python package that allows us to solve the marine carbonate system.  That means that from any pair of dissolved inorganic carbon (DIC) or one of its components, total alkalinity, pH, CO₂ partial pressure or fugacity, you can calculate all the rest of these parameters, and other variables relevant to seawater CO₂ chemistry.\n",
    "\n",
    "This first notebook introduces you to PyCO2SYS and how to use it.  You don't need to make any specific changes to the code in this section, although you should try out making some adjustments to make sure you understand how it works.  For example, you could try:\n",
    "\n",
    "  * Adding in the effects of additional nutrients,\n",
    "  * Changing which pair of carbonate system parameters are provided,\n",
    "  * Finding the values of a few different calculated properties.\n",
    "\n",
    "The only function you need is `pyco2.sys`, and as a minimum you need values for two of the marine carbonate system parameters in the list above:"
   ]
  },
  {
   "cell_type": "code",
   "execution_count": null,
   "id": "convenient-anderson",
   "metadata": {},
   "outputs": [],
   "source": [
    "# Import packages\n",
    "import PyCO2SYS as pyco2, numpy as np\n",
    "%matplotlib notebook\n",
    "from matplotlib import pyplot as plt\n",
    "\n",
    "# Define known carbonate system parameters for PyCO2SYS minimal example\n",
    "par1 = 2300.15  # total alkalinity / μmol/kg\n",
    "par2 = 2150.12  # dissolved inorganic carbon (DIC) / μmol/kg\n",
    "par1_type = 1  # \"par1 is alkalinity\"\n",
    "par2_type = 2  # \"par2 is DIC\"\n",
    "\n",
    "# Minimal example of using PyCO2SYS\n",
    "results = pyco2.sys(par1, par2, par1_type, par2_type)\n",
    "\n",
    "# What's the seawater pH under these conditions?\n",
    "print('pH =', results['pH'])"
   ]
  },
  {
   "cell_type": "markdown",
   "id": "rocky-recruitment",
   "metadata": {},
   "source": [
    "The output `results` is a [dict](https://www.w3schools.com/python/python_dictionaries.asp) containing all the different calculated variables.  All the keys to the dict are listed in the [PyCO2SYS results documentation](https://pyco2sys.readthedocs.io/en/latest/co2sys_nd/#results).\n",
    "\n",
    "The calculation above assumes default values for all the conditions that aren't specified, like temperature, salinity, pressure, nutrients, and so on.  We can add these in as keyword arguments, if needed.  See the [PyCO2SYS documentation on arguments](https://pyco2sys.readthedocs.io/en/latest/co2sys_nd/#arguments) for all the options.  Some are shown in the example below:"
   ]
  },
  {
   "cell_type": "code",
   "execution_count": null,
   "id": "unavailable-publication",
   "metadata": {},
   "outputs": [],
   "source": [
    "# Provide more specific conditions\n",
    "results = pyco2.sys(\n",
    "    par1, par2, par1_type, par2_type,\n",
    "    temperature=10,  # seawater temperature / °C\n",
    "    salinity=32,  # practical salinity\n",
    "    pressure=1000,  # pressure / dbar\n",
    "    total_silicate=50,  # total silicate / μmol/kg\n",
    ")\n",
    "\n",
    "# What's the new pH?\n",
    "print('pH = ', results['pH'])"
   ]
  },
  {
   "cell_type": "markdown",
   "id": "synthetic-delight",
   "metadata": {},
   "source": [
    "Every argument to `pyco.sys` can be either a single value or an array of values, as long as the dimensions are not incompatible with each other:"
   ]
  },
  {
   "cell_type": "code",
   "execution_count": null,
   "id": "russian-alabama",
   "metadata": {},
   "outputs": [],
   "source": [
    "# Define array of seawater temperature values / °C\n",
    "temperature = np.array([0, 5, 10, 15, 20, 25, 30])\n",
    "\n",
    "# Provide more specific conditions\n",
    "results = pyco2.sys(\n",
    "    par1, par2, par1_type, par2_type,\n",
    "    temperature=temperature,  # array defined above\n",
    "    salinity=32,  # practical salinity\n",
    "    pressure=1000,  # pressure / dbar\n",
    "    total_silicate=50,  # total silicate / μmol/kg\n",
    ")\n",
    "\n",
    "# Plot the effect of temperature on pH, under constant alkalinity and DIC\n",
    "fig, ax = plt.subplots()\n",
    "ax.scatter('temperature', 'pH', data=results)\n",
    "ax.set_xlabel('Temperature / °C')\n",
    "ax.set_ylabel('Seawater pH')\n",
    "ax.grid(alpha=0.4)"
   ]
  },
  {
   "cell_type": "markdown",
   "id": "refined-lesson",
   "metadata": {},
   "source": [
    "By now you should know:\n",
    "\n",
    "  * How to provide carbonate system parameters to `pyco2.sys`,\n",
    "  * How to provide additional information, such as temperature,\n",
    "  * How to find the results of interest from the `results` dict.\n",
    "  \n",
    "When you're comfortable with these things, work through the questions below, then move on to the next notebook.\n",
    "\n",
    "## Drivers of marine carbonate system variability\n",
    "\n",
    "In the lecture we saw how various processes can affect the parameters of the marine carbonate system.  Here, you will use PyCO2SYS to confirm and quantify some of those effects.\n",
    "\n",
    "Typical sea surface conditions in the North Atlantic Ocean at 50 °N include a seawater temperature of 15 °C and practical salinity of 35.4.\n",
    "\n",
    "Following [Lee et al. (2006)](https://agupubs.onlinelibrary.wiley.com/doi/full/10.1029/2006GL027207), surface ocean total alkalinity in μmol/kg can be estimated in this region using:\n",
    "\n",
    "TA = 2305 + 53.97 (*S* − 35) + 2.74 (*S* − 35)² − 1.16 (*T* − 20) − 0.04 (*T* − 20)²\n",
    "\n",
    "### Questions\n",
    "\n",
    "  1. Why is total alkalinity correlated with salinity?  Why is it correlated with temperature?\n",
    "\n",
    "  2. What is the typical surface ocean total alkalinity for the North Atlantic at 50 °N?\n",
    "  \n",
    "  3. Assuming equilibrium with a present-day atmospheric *p*CO₂ of 415 μatm, what are the corresponding:\n",
    "    1. DIC content,\n",
    "    2. pH (Total scale), and\n",
    "    3. aragonite saturation state Ω(arag)?\n",
    "    \n",
    "  4. What would be the immediate change in seawater *p*CO₂ if DIC decreased by 100 μmol/kg due to:\n",
    "    1. uptake into organic matter, and\n",
    "    2. calcification?\n",
    "    \n",
    "  5. Which of the processes in the previous question are CO₂ sinks, which are CO2₂ sources, and why?\n",
    "  \n",
    "  6. If seawater *p*CO₂ then re-equilibrated with the original atmosphere, what would the DIC, pH and Ω(arag) be in each case?  How does this compare with the original conditions in each case?\n",
    "    \n",
    "  7. If everything else stayed constant, what would the surface DIC, pH and Ω(arag) have been in equilibrium with:\n",
    "    1. a pre-industrial atmospheric *p*CO₂ of 280 μatm, and\n",
    "    2. a projected business-as-usual atmospheric *p*CO₂ for the year 2100 of 850 μatm?\n",
    "  \n",
    "  8. Comparing the changes calculated in the previous question from pre-industrial to present versus present to future, how much do DIC, pH and Ω(arag) change per unit *p*CO₂ change?  What are the consequences for the rates of future ocean CO₂ uptake and the resulting chemical changes?\n",
    "  \n",
    "  9. How realistic is the assumption that \"everything else stayed constant\" in the previous two questions?  Which variable(s) most likely did not stay constant?  How would this affect the CO₂ system, qualitatively?"
   ]
  },
  {
   "cell_type": "code",
   "execution_count": null,
   "id": "billion-active",
   "metadata": {},
   "outputs": [],
   "source": [
    "# Use this cell to calculate your answers to the questions above\n"
   ]
  }
 ],
 "metadata": {
  "kernelspec": {
   "display_name": "Python 3",
   "language": "python",
   "name": "python3"
  },
  "language_info": {
   "codemirror_mode": {
    "name": "ipython",
    "version": 3
   },
   "file_extension": ".py",
   "mimetype": "text/x-python",
   "name": "python",
   "nbconvert_exporter": "python",
   "pygments_lexer": "ipython3",
   "version": "3.8.5"
  }
 },
 "nbformat": 4,
 "nbformat_minor": 5
}
